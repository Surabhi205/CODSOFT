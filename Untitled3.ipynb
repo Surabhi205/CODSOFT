{
  "nbformat": 4,
  "nbformat_minor": 0,
  "metadata": {
    "colab": {
      "provenance": [],
      "authorship_tag": "ABX9TyMn+zJ7oyWooMQK7IZS13g0",
      "include_colab_link": true
    },
    "kernelspec": {
      "name": "python3",
      "display_name": "Python 3"
    },
    "language_info": {
      "name": "python"
    }
  },
  "cells": [
    {
      "cell_type": "markdown",
      "metadata": {
        "id": "view-in-github",
        "colab_type": "text"
      },
      "source": [
        "<a href=\"https://colab.research.google.com/github/Surabhi205/CODSOFT/blob/main/Untitled3.ipynb\" target=\"_parent\"><img src=\"https://colab.research.google.com/assets/colab-badge.svg\" alt=\"Open In Colab\"/></a>"
      ]
    },
    {
      "cell_type": "code",
      "source": [
        "\n",
        "\n",
        " class ToDoList:\n",
        "    def __init__(self):\n",
        "        self.tasks = {}\n",
        "\n",
        "    def add_task(self, task, priority):\n",
        "        self.tasks[task] = priority\n",
        "\n",
        "    def remove_task(self, task):\n",
        "        if task in self.tasks:\n",
        "            del self.tasks[task]\n",
        "        else:\n",
        "            print(\"Task not found.\")\n",
        "\n",
        "    def display_tasks(self):\n",
        "        if not self.tasks:\n",
        "            print(\"No tasks found.\")\n",
        "        else:\n",
        "            for task, priority in self.tasks.items():\n",
        "                print(f\"Task: {task}, Priority: {priority}\")\n",
        "\n",
        "todo_list = ToDoList()\n",
        "\n",
        "while True:\n",
        "    print(\"\\n1. Add Task\\n2. Remove Task\\n3. Display Tasks\\n4. Exit\")\n",
        "    choice = input(\"Enter your choice (1/2/3/4): \")\n",
        "\n",
        "    if choice == '1':\n",
        "        task = input(\"Enter task: \")\n",
        "        priority = input(\"Enter priority: \")\n",
        "        todo_list.add_task(task, priority)\n",
        "    elif choice == '2':\n",
        "        task = input(\"Enter task to remove: \")\n",
        "        todo_list.remove_task(task)\n",
        "    elif choice == '3':\n",
        "        todo_list.display_tasks()\n",
        "    elif choice == '4':\n",
        "        print(\"Exiting ToDo List application. Goodbye!\")\n",
        "        break\n",
        "    else:\n",
        "        print(\"Invalid choice. Please enter a valid option.\")"
      ],
      "metadata": {
        "colab": {
          "base_uri": "https://localhost:8080/"
        },
        "id": "IW7bmvKII8nq",
        "outputId": "a2a2d901-4e17-4c76-fd39-c86cc7ff3964"
      },
      "execution_count": 2,
      "outputs": [
        {
          "output_type": "stream",
          "name": "stdout",
          "text": [
            "\n",
            "1. Add Task\n",
            "2. Remove Task\n",
            "3. Display Tasks\n",
            "4. Exit\n",
            "Enter your choice (1/2/3/4): 1\n",
            "Enter task: workout\n",
            "Enter priority: 1\n",
            "\n",
            "1. Add Task\n",
            "2. Remove Task\n",
            "3. Display Tasks\n",
            "4. Exit\n",
            "Enter your choice (1/2/3/4): 1\n",
            "Enter task: study 2 hours\n",
            "Enter priority: 3\n",
            "\n",
            "1. Add Task\n",
            "2. Remove Task\n",
            "3. Display Tasks\n",
            "4. Exit\n",
            "Enter your choice (1/2/3/4): 1\n",
            "Enter task: practice coding\n",
            "Enter priority: 2\n",
            "\n",
            "1. Add Task\n",
            "2. Remove Task\n",
            "3. Display Tasks\n",
            "4. Exit\n",
            "Enter your choice (1/2/3/4): 3\n",
            "Task: workout, Priority: 1\n",
            "Task: study 2 hours, Priority: 3\n",
            "Task: practice coding, Priority: 2\n",
            "\n",
            "1. Add Task\n",
            "2. Remove Task\n",
            "3. Display Tasks\n",
            "4. Exit\n",
            "Enter your choice (1/2/3/4): 4\n",
            "Exiting ToDo List application. Goodbye!\n"
          ]
        }
      ]
    }
  ]
}